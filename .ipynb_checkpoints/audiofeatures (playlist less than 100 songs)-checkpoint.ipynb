{
 "cells": [
  {
   "cell_type": "code",
   "execution_count": 1,
   "metadata": {},
   "outputs": [],
   "source": [
    "import spotipy # install if needed\n",
    "from spotipy.oauth2 import SpotifyClientCredentials"
   ]
  },
  {
   "cell_type": "code",
   "execution_count": 2,
   "metadata": {},
   "outputs": [],
   "source": [
    "import getpass\n",
    "import pandas as pd"
   ]
  },
  {
   "cell_type": "code",
   "execution_count": 3,
   "metadata": {},
   "outputs": [
    {
     "name": "stdout",
     "output_type": "stream",
     "text": [
      "enter your client id?········\n",
      "enter your clientsecret?········\n"
     ]
    }
   ],
   "source": [
    "client_id=str(getpass.getpass('enter your client id?')) #ee2037b6235f4d19a75129a108d45a28\n",
    "client_secret=str(getpass.getpass('enter your clientsecret?')) #92bfc64c53914d54a30f44553174fe89"
   ]
  },
  {
   "cell_type": "code",
   "execution_count": 4,
   "metadata": {},
   "outputs": [],
   "source": [
    "#Initialize SpotiPy with user credentias\n",
    "sp = spotipy.Spotify(auth_manager=SpotifyClientCredentials(\n",
    "    client_id=client_id,\n",
    "    client_secret=client_secret))"
   ]
  },
  {
   "cell_type": "markdown",
   "metadata": {},
   "source": [
    "# 1. Get a list of thousands songs with audio features"
   ]
  },
  {
   "cell_type": "markdown",
   "metadata": {},
   "source": [
    "## 1.1 Define functions to extract audio features from one playlist (<100 tracks)"
   ]
  },
  {
   "cell_type": "code",
   "execution_count": null,
   "metadata": {},
   "outputs": [],
   "source": [
    "def audiofeat_from_playlist(playlist_id):\n",
    "    playlist = sp.playlist_tracks(playlist_id) #define playlist\n",
    "    playlist_uris=[] # create empty list of uris \n",
    "    for item in playlist['items']: #append list with uri of each song in the playlist\n",
    "        playlist_uris.append(item['track']['uri'])\n",
    "    audio_features = sp.audio_features(tracks=playlist_uris) #extract audio features \n",
    "    return (audio_features)"
   ]
  },
  {
   "cell_type": "markdown",
   "metadata": {},
   "source": [
    "# 1.2 Looping the function over a series of playlists"
   ]
  },
  {
   "cell_type": "code",
   "execution_count": null,
   "metadata": {},
   "outputs": [],
   "source": [
    "playlists = ['37i9dQZF1DZ06evO39YXQI', '37i9dQZF1DX5EkyRFIV92g', '37i9dQZF1DX8ucPPHyzDUE', '37i9dQZF1DX55yuR78Invt',\n",
    "           '37i9dQZF1DWWxPM4nWdhyI', '37i9dQZF1DZ06evO161ZV6', '37i9dQZF1DZ06evO2zJOi2', '37i9dQZF1DZ06evO2ZTWSp',\n",
    "           '37i9dQZF1DZ06evO2csqsN', '37i9dQZF1DZ06evO2FvyO4', '37i9dQZF1DX2apWzyECwyZ', '37i9dQZF1DX9tzt7g58Xlh',\n",
    "           '37i9dQZF1DZ06evO1q1llu', '37i9dQZF1DXc2aPBXGmXrt', '37i9dQZF1DZ06evO30JqGN', '37i9dQZF1DZ06evO3t7Mpz',\n",
    "           '37i9dQZF1DX1whYo9Mg2Mt', '37i9dQZF1DZ06evO0Kc0i8', '37i9dQZF1DZ06evO1aBeik', '37i9dQZF1DZ06evO2oTcyc',\n",
    "           '37i9dQZF1DZ06evO4kEIFJ', '37i9dQZF1DX7JVsTTEkyUT', '37i9dQZF1E4k8iFIrwwqkW', '37i9dQZF1E4BoMLQnbv68l',\n",
    "           '37i9dQZF1E4BHGOS34BXBo', '37i9dQZF1E4mHJ8YzKWXiJ', '37i9dQZF1E4CWDuYF7GiUo']"
   ]
  },
  {
   "cell_type": "code",
   "execution_count": null,
   "metadata": {},
   "outputs": [],
   "source": [
    "af_df = pd.DataFrame(audiofeat_from_playlist(playlists[0]))"
   ]
  },
  {
   "cell_type": "code",
   "execution_count": null,
   "metadata": {},
   "outputs": [],
   "source": [
    "af_df"
   ]
  },
  {
   "cell_type": "code",
   "execution_count": null,
   "metadata": {},
   "outputs": [],
   "source": [
    "for item in playlists[1:]:\n",
    "    audio_features_playlist = audiofeat_from_playlist(item) \n",
    "    af_df_temp = pd.DataFrame(audio_features_playlist)\n",
    "    af_df = pd.concat([af_df, af_df_temp])"
   ]
  },
  {
   "cell_type": "code",
   "execution_count": null,
   "metadata": {},
   "outputs": [],
   "source": [
    "af_df.info()"
   ]
  },
  {
   "cell_type": "markdown",
   "metadata": {},
   "source": [
    "# 1.3 improving the function audiofeat_from_playlist for playlist longer than 100 songs"
   ]
  },
  {
   "cell_type": "markdown",
   "metadata": {},
   "source": [
    "# long playlist = '37i9dQZF1DWXRqgorJj26U' "
   ]
  },
  {
   "cell_type": "markdown",
   "metadata": {},
   "source": [
    "def get_playlist_tracks_long(playlist_id): #get tracks for playlists > 100\n",
    "    playlist=sp.playlist_tracks(playlist_id)\n",
    "    tracks=playlist['items']\n",
    "    while playlist['next']:\n",
    "        playlist=sp.next(playlist)\n",
    "        tracks.extend(playlist['items'])\n",
    "    return tracks"
   ]
  },
  {
   "cell_type": "markdown",
   "metadata": {},
   "source": [
    "tracks = get_playlist_tracks_long('37i9dQZF1DWXRqgorJj26U')"
   ]
  },
  {
   "cell_type": "markdown",
   "metadata": {},
   "source": [
    "tracks"
   ]
  },
  {
   "cell_type": "markdown",
   "metadata": {},
   "source": [
    "audio_features_tot = []\n",
    "playlist_uris_chunked = []\n",
    "playlist_uris=[]"
   ]
  },
  {
   "cell_type": "markdown",
   "metadata": {},
   "source": [
    "def audiofeat_from_playlistLONG(playlist_id):\n",
    "    tracks = get_playlist_tracks_long(playlist_id)\n",
    "    \n",
    "    audio_features_tot = []\n",
    "    playlist_uris_chunked = [] \n",
    "    playlist_uris=[]\n",
    "    \n",
    "    for item in tracks: #append list with uri of each song in the playlist\n",
    "        playlist_uris.append(item['track']['uri'])\n",
    "    \n",
    "    \n",
    "    chunk_size = 100\n",
    "    for i in range(0, len(playlist_uris), chunk_size):\n",
    "        playlist_uris_chunked.append(playlist_uris[i:i+chunk_size])\n",
    "    \n",
    "    for uri in playlist_uris_chunked:\n",
    "        audio_features_temp = sp.audio_features(tracks=uri)\n",
    "        audio_features_tot.append(audio_features_temp) #extract audio features\n",
    "    \n",
    "     \n",
    "    af_df_1 = pd.DataFrame(audio_features_tot[0])\n",
    "    \n",
    "    for item in audio_features_tot[1:]:\n",
    "        af_df_temp_1 = pd.DataFrame(item)\n",
    "        af_df_1 = pd.concat([af_df_1, af_df_temp_1])\n",
    "    \n",
    "    \n",
    "    #global audio_features_tot    \n",
    "    #for i in range(len(playlist_uris_chunked)):\n",
    "     #   audio_features_temp = sp.audio_features(tracks=i)\n",
    "      #  audio_features_tot = audio_features_tot.append(audio_features_temp) #extract audio features \n",
    "    \n",
    "    return (af_df_1) "
   ]
  },
  {
   "cell_type": "markdown",
   "metadata": {},
   "source": [
    "song_list = audiofeat_from_playlistLONG ('37i9dQZF1DX55yuR78Invt')"
   ]
  },
  {
   "cell_type": "markdown",
   "metadata": {
    "collapsed": true
   },
   "source": [
    "song_list"
   ]
  },
  {
   "cell_type": "markdown",
   "metadata": {},
   "source": [
    "playlists2 = ['37i9dQZF1DWXRqgorJj26U','3Ho3iO0iJykgEQNbjB2sic','37i9dQZF1DX8ucPPHyzDUE', '37i9dQZF1DX55yuR78Invt', '37i9dQZF1DWWxPM4nWdhyI', '37i9dQZF1DZ06evO161ZV6', '37i9dQZF1DZ06evO2zJOi2', '37i9dQZF1DZ06evO2ZTWSp']"
   ]
  },
  {
   "cell_type": "markdown",
   "metadata": {},
   "source": [
    "playlists2[0]"
   ]
  },
  {
   "cell_type": "markdown",
   "metadata": {},
   "source": [
    "audio_tot_df = audiofeat_from_playlistLONG(playlists2[0])"
   ]
  },
  {
   "cell_type": "markdown",
   "metadata": {},
   "source": [
    "audio_tot_df"
   ]
  },
  {
   "cell_type": "markdown",
   "metadata": {},
   "source": [
    "for item in playlists2[1:]: #getting the final dataframe\n",
    "    temp_df = audiofeat_from_playlistLONG(item) \n",
    "    #af_df_temp3 = pd.DataFrame(audio_features_playlist)\n",
    "    audio_tot_df = pd.concat([audio_tot_df, temp_df])"
   ]
  },
  {
   "cell_type": "markdown",
   "metadata": {},
   "source": [
    "audio_tot_df"
   ]
  }
 ],
 "metadata": {
  "kernelspec": {
   "display_name": "Python 3",
   "language": "python",
   "name": "python3"
  },
  "language_info": {
   "codemirror_mode": {
    "name": "ipython",
    "version": 3
   },
   "file_extension": ".py",
   "mimetype": "text/x-python",
   "name": "python",
   "nbconvert_exporter": "python",
   "pygments_lexer": "ipython3",
   "version": "3.8.5"
  }
 },
 "nbformat": 4,
 "nbformat_minor": 4
}
