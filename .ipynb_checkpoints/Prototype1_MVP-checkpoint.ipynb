{
 "cells": [
  {
   "cell_type": "markdown",
   "metadata": {},
   "source": [
    "# 1. "
   ]
  },
  {
   "cell_type": "code",
   "execution_count": null,
   "metadata": {},
   "outputs": [],
   "source": [
    "from billboard_100 import create_song_dataframe"
   ]
  },
  {
   "cell_type": "code",
   "execution_count": null,
   "metadata": {},
   "outputs": [],
   "source": [
    "songs=create_song_dataframe()"
   ]
  },
  {
   "cell_type": "code",
   "execution_count": 1,
   "metadata": {},
   "outputs": [],
   "source": [
    "def create_song_dataframe ():\n",
    "    \n",
    "    #Importing necessary libraries\n",
    "    import pandas as pd\n",
    "    import requests\n",
    "    from bs4 import BeautifulSoup\n",
    "    from tqdm.notebook import tqdm\n",
    "        \n",
    "    # get the website url\n",
    "    url = 'https://www.billboard.com/charts/hot-100'\n",
    "    \n",
    "    #run request on url\n",
    "    response = requests.get(url, headers = {\"Accept-Language\" : \"en-US\"}) \n",
    "    \n",
    "    #parse the html as soup\n",
    "    soup = BeautifulSoup(response.content,'html.parser') \n",
    "    \n",
    "    #get the number of songs\n",
    "    len_songs = len(soup.select('h3.c-title.a-no-trucate'))\n",
    "    \n",
    "    #create empty lists to store song titles and song authors\n",
    "    song_title = []\n",
    "    song_auth = []\n",
    "    rank_position = []\n",
    "    \n",
    "    for i in tqdm(range(len_songs)): \n",
    "        rank_position.append(i+1)\n",
    "        song_title.append(soup.select('h3.c-title.a-no-trucate')[i].get_text(strip = True))\n",
    "        song_auth.append(soup.select('span.c-label.a-no-trucate')[i].get_text(strip = True))\n",
    "    \n",
    "    # Clean and create a dataframe with this info\n",
    "    song_100 = pd.DataFrame({'position': rank_position,\n",
    "                             'title':song_title,\n",
    "                             'author':song_auth})\n",
    "    song_100 = song_100.applymap(lambda s:s.lower() if type(s) == str else s)\n",
    "    return (song_100)"
   ]
  },
  {
   "cell_type": "code",
   "execution_count": null,
   "metadata": {},
   "outputs": [],
   "source": [
    "def hot_song():\n",
    "    \n",
    "    from billboard_100 import create_song_dataframe # get the dataframe of 100 hotsong in billboard\n",
    "    song_100 = create_song_dataframe()\n",
    "    \n",
    "    #get the input from the user\n",
    "    song = input('Would you like a song recommendation? Please write here the title of a song you like!').lower()\n",
    "    \n",
    "    if len(song) < 2:\n",
    "        print('This doesn not look like the title of a song. Please try again!')\n",
    "    elif song in song_100['title'].tolist():\n",
    "        print(\"Your song is in top 100!\")\n",
    "        index = song_100.index[song_100['title'] == song].tolist()\n",
    "        song_100_temp = song_100.drop(song_100.index[index])\n",
    "        recomen = song_100_temp.sample(n=1) # Randomly sample 1 element from your dataframe\n",
    "        print('The recommended song for you is: ' + recomen['title'].to_string(index = False) + ' from '+ recomen['author'].to_string(index = False))\n",
    "    else:\n",
    "        print('I cannot find matches for this song, please try with another song!')   "
   ]
  },
  {
   "cell_type": "code",
   "execution_count": null,
   "metadata": {
    "scrolled": true
   },
   "outputs": [],
   "source": [
    "hot_song()"
   ]
  },
  {
   "cell_type": "code",
   "execution_count": null,
   "metadata": {},
   "outputs": [],
   "source": [
    "song = input('Would you like a song recommendation? Please write here the title of a song you like!').lower()"
   ]
  },
  {
   "cell_type": "code",
   "execution_count": null,
   "metadata": {},
   "outputs": [],
   "source": []
  },
  {
   "cell_type": "code",
   "execution_count": null,
   "metadata": {},
   "outputs": [],
   "source": []
  }
 ],
 "metadata": {
  "kernelspec": {
   "display_name": "Python 3",
   "language": "python",
   "name": "python3"
  },
  "language_info": {
   "codemirror_mode": {
    "name": "ipython",
    "version": 3
   },
   "file_extension": ".py",
   "mimetype": "text/x-python",
   "name": "python",
   "nbconvert_exporter": "python",
   "pygments_lexer": "ipython3",
   "version": "3.8.5"
  }
 },
 "nbformat": 4,
 "nbformat_minor": 4
}
