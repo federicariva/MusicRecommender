{
 "cells": [
  {
   "cell_type": "code",
   "execution_count": 1,
   "metadata": {},
   "outputs": [],
   "source": [
    "def hot_song():\n",
    "    \n",
    "    from billboard_100 import create_song_dataframe # get the dataframe of 100 hotsong in billboard\n",
    "    print ('loading data...')\n",
    "    song_100 = create_song_dataframe()\n",
    "    \n",
    "    #get the input from the user\n",
    "    song = input('Would you like a song recommendation? Please write here the title of a song you like!').lower()\n",
    "    \n",
    "    if len(song) < 2:\n",
    "        print('This doesn not look like the title of a song. Please try again!')\n",
    "    elif song in song_100['title'].tolist():\n",
    "        print(\"Your song is in the top 100!\")\n",
    "        index = song_100.index[song_100['title'] == song].tolist()\n",
    "        song_100_temp = song_100.drop(song_100.index[index])\n",
    "        recomen = song_100_temp.sample(n=1) # Randomly sample 1 element from your dataframe\n",
    "        print('The recommended song for you is: ' + recomen['title'].to_string(index = False) + ' from '+ recomen['author'].to_string(index = False))\n",
    "    else:\n",
    "        print('I cannot find matches for this song, please try with another song!')"
   ]
  }
 ],
 "metadata": {
  "kernelspec": {
   "display_name": "Python 3",
   "language": "python",
   "name": "python3"
  },
  "language_info": {
   "codemirror_mode": {
    "name": "ipython",
    "version": 3
   },
   "file_extension": ".py",
   "mimetype": "text/x-python",
   "name": "python",
   "nbconvert_exporter": "python",
   "pygments_lexer": "ipython3",
   "version": "3.8.5"
  }
 },
 "nbformat": 4,
 "nbformat_minor": 4
}
